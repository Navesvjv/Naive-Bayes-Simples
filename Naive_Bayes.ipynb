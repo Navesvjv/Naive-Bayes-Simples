{
  "nbformat": 4,
  "nbformat_minor": 0,
  "metadata": {
    "colab": {
      "name": "Naive Bayes.ipynb",
      "provenance": [],
      "toc_visible": true
    },
    "kernelspec": {
      "name": "python3",
      "display_name": "Python 3"
    }
  },
  "cells": [
    {
      "cell_type": "code",
      "metadata": {
        "id": "iEprdJEbJ7eE",
        "colab_type": "code",
        "colab": {
          "base_uri": "https://localhost:8080/",
          "height": 419
        },
        "outputId": "2eb6fe7e-86bc-4394-a3bb-4181895909af"
      },
      "source": [
        "import pandas as pd\n",
        "base = pd.read_csv('/NaiveBayesWIN$N_PERIOD_D1.csv', sep=\";\")\n",
        "base"
      ],
      "execution_count": 179,
      "outputs": [
        {
          "output_type": "execute_result",
          "data": {
            "text/html": [
              "<div>\n",
              "<style scoped>\n",
              "    .dataframe tbody tr th:only-of-type {\n",
              "        vertical-align: middle;\n",
              "    }\n",
              "\n",
              "    .dataframe tbody tr th {\n",
              "        vertical-align: top;\n",
              "    }\n",
              "\n",
              "    .dataframe thead th {\n",
              "        text-align: right;\n",
              "    }\n",
              "</style>\n",
              "<table border=\"1\" class=\"dataframe\">\n",
              "  <thead>\n",
              "    <tr style=\"text-align: right;\">\n",
              "      <th></th>\n",
              "      <th>A</th>\n",
              "      <th>DifOpenClose_Open</th>\n",
              "      <th>DifHighLow_Open</th>\n",
              "      <th>TypeCandle</th>\n",
              "      <th>Gap</th>\n",
              "      <th>Tagert</th>\n",
              "    </tr>\n",
              "  </thead>\n",
              "  <tbody>\n",
              "    <tr>\n",
              "      <th>0</th>\n",
              "      <td>101</td>\n",
              "      <td>888</td>\n",
              "      <td>666</td>\n",
              "      <td>111</td>\n",
              "      <td>333</td>\n",
              "      <td>1</td>\n",
              "    </tr>\n",
              "    <tr>\n",
              "      <th>1</th>\n",
              "      <td>999</td>\n",
              "      <td>888</td>\n",
              "      <td>555</td>\n",
              "      <td>222</td>\n",
              "      <td>333</td>\n",
              "      <td>0</td>\n",
              "    </tr>\n",
              "    <tr>\n",
              "      <th>2</th>\n",
              "      <td>101</td>\n",
              "      <td>888</td>\n",
              "      <td>666</td>\n",
              "      <td>111</td>\n",
              "      <td>444</td>\n",
              "      <td>1</td>\n",
              "    </tr>\n",
              "    <tr>\n",
              "      <th>3</th>\n",
              "      <td>999</td>\n",
              "      <td>888</td>\n",
              "      <td>555</td>\n",
              "      <td>222</td>\n",
              "      <td>333</td>\n",
              "      <td>0</td>\n",
              "    </tr>\n",
              "    <tr>\n",
              "      <th>4</th>\n",
              "      <td>101</td>\n",
              "      <td>888</td>\n",
              "      <td>666</td>\n",
              "      <td>111</td>\n",
              "      <td>333</td>\n",
              "      <td>1</td>\n",
              "    </tr>\n",
              "    <tr>\n",
              "      <th>...</th>\n",
              "      <td>...</td>\n",
              "      <td>...</td>\n",
              "      <td>...</td>\n",
              "      <td>...</td>\n",
              "      <td>...</td>\n",
              "      <td>...</td>\n",
              "    </tr>\n",
              "    <tr>\n",
              "      <th>1087</th>\n",
              "      <td>101</td>\n",
              "      <td>888</td>\n",
              "      <td>666</td>\n",
              "      <td>111</td>\n",
              "      <td>333</td>\n",
              "      <td>1</td>\n",
              "    </tr>\n",
              "    <tr>\n",
              "      <th>1088</th>\n",
              "      <td>999</td>\n",
              "      <td>888</td>\n",
              "      <td>555</td>\n",
              "      <td>222</td>\n",
              "      <td>444</td>\n",
              "      <td>0</td>\n",
              "    </tr>\n",
              "    <tr>\n",
              "      <th>1089</th>\n",
              "      <td>999</td>\n",
              "      <td>888</td>\n",
              "      <td>555</td>\n",
              "      <td>222</td>\n",
              "      <td>444</td>\n",
              "      <td>1</td>\n",
              "    </tr>\n",
              "    <tr>\n",
              "      <th>1090</th>\n",
              "      <td>101</td>\n",
              "      <td>888</td>\n",
              "      <td>666</td>\n",
              "      <td>111</td>\n",
              "      <td>444</td>\n",
              "      <td>1</td>\n",
              "    </tr>\n",
              "    <tr>\n",
              "      <th>1091</th>\n",
              "      <td>999</td>\n",
              "      <td>777</td>\n",
              "      <td>666</td>\n",
              "      <td>222</td>\n",
              "      <td>333</td>\n",
              "      <td>0</td>\n",
              "    </tr>\n",
              "  </tbody>\n",
              "</table>\n",
              "<p>1092 rows × 6 columns</p>\n",
              "</div>"
            ],
            "text/plain": [
              "        A  DifOpenClose_Open  DifHighLow_Open  TypeCandle  Gap  Tagert\n",
              "0     101                888              666         111  333       1\n",
              "1     999                888              555         222  333       0\n",
              "2     101                888              666         111  444       1\n",
              "3     999                888              555         222  333       0\n",
              "4     101                888              666         111  333       1\n",
              "...   ...                ...              ...         ...  ...     ...\n",
              "1087  101                888              666         111  333       1\n",
              "1088  999                888              555         222  444       0\n",
              "1089  999                888              555         222  444       1\n",
              "1090  101                888              666         111  444       1\n",
              "1091  999                777              666         222  333       0\n",
              "\n",
              "[1092 rows x 6 columns]"
            ]
          },
          "metadata": {
            "tags": []
          },
          "execution_count": 179
        }
      ]
    },
    {
      "cell_type": "code",
      "metadata": {
        "id": "nBotNHq8RRJ5",
        "colab_type": "code",
        "colab": {}
      },
      "source": [
        "X = base.iloc[:, :5].values\n",
        "y = base.iloc[:, 5].values"
      ],
      "execution_count": 180,
      "outputs": []
    },
    {
      "cell_type": "code",
      "metadata": {
        "id": "VRqSvfbMLIM0",
        "colab_type": "code",
        "colab": {}
      },
      "source": [
        "from sklearn.model_selection import train_test_split\n",
        "X_treinamento, X_teste, y_treinamento, y_teste = train_test_split(X, y, test_size = 0.3)"
      ],
      "execution_count": 181,
      "outputs": []
    },
    {
      "cell_type": "code",
      "metadata": {
        "id": "mFNBVbGqLxQ5",
        "colab_type": "code",
        "colab": {
          "base_uri": "https://localhost:8080/",
          "height": 34
        },
        "outputId": "17dde4d8-1895-428f-a0a6-cae52349e4e3"
      },
      "source": [
        "from sklearn.naive_bayes import GaussianNB\n",
        "gnb = GaussianNB()\n",
        "gnb.fit(X_treinamento, y_treinamento)"
      ],
      "execution_count": 182,
      "outputs": [
        {
          "output_type": "execute_result",
          "data": {
            "text/plain": [
              "GaussianNB(priors=None, var_smoothing=1e-09)"
            ]
          },
          "metadata": {
            "tags": []
          },
          "execution_count": 182
        }
      ]
    },
    {
      "cell_type": "code",
      "metadata": {
        "id": "_RBky3D_MNpY",
        "colab_type": "code",
        "colab": {}
      },
      "source": [
        "prev = gnb.predict(X_teste)"
      ],
      "execution_count": 183,
      "outputs": []
    },
    {
      "cell_type": "code",
      "metadata": {
        "id": "2Phpv7OvMcot",
        "colab_type": "code",
        "colab": {
          "base_uri": "https://localhost:8080/",
          "height": 34
        },
        "outputId": "fa45d36d-befb-43cc-d0e0-9ac9db27d67f"
      },
      "source": [
        "from sklearn.metrics import accuracy_score\n",
        "taxa_acerto = accuracy_score(y_teste, prev)\n",
        "taxa_acerto"
      ],
      "execution_count": 184,
      "outputs": [
        {
          "output_type": "execute_result",
          "data": {
            "text/plain": [
              "0.46646341463414637"
            ]
          },
          "metadata": {
            "tags": []
          },
          "execution_count": 184
        }
      ]
    }
  ]
}